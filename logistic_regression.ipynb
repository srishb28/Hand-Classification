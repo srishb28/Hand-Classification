{
 "cells": [
  {
   "cell_type": "markdown",
   "metadata": {},
   "source": [
    "## Logistic Regression with SGD"
   ]
  },
  {
   "cell_type": "markdown",
   "metadata": {},
   "source": [
    "To begin you first need to install all dependencies, using:\n",
    "\n",
    "    pip install -r requirements.txt"
   ]
  },
  {
   "cell_type": "code",
   "execution_count": 214,
   "metadata": {
    "collapsed": true
   },
   "outputs": [],
   "source": [
    "import numpy as np\n",
    "import matplotlib.pyplot as plt\n",
    "\n",
    "from math import exp, log\n",
    "import os\n",
    "import pickle\n",
    "\n",
    "from skimage import io\n",
    "from skimage.color import rgb2gray\n",
    "from skimage.feature import hog\n",
    "\n",
    "from sklearn.metrics import accuracy_score\n",
    "from sklearn.metrics import precision_recall_curve\n",
    "from sklearn.metrics import roc_curve\n",
    "from sklearn.metrics import auc\n",
    "from sklearn.metrics import average_precision_score\n",
    "import random"
   ]
  },
  {
   "cell_type": "code",
   "execution_count": 215,
   "metadata": {
    "collapsed": true
   },
   "outputs": [],
   "source": [
    "%matplotlib inline"
   ]
  },
  {
   "cell_type": "markdown",
   "metadata": {},
   "source": [
    "### load the dataset"
   ]
  },
  {
   "cell_type": "code",
   "execution_count": 216,
   "metadata": {
    "collapsed": true
   },
   "outputs": [],
   "source": [
    "### set your image dir here\n",
    "IMAGE_DIR = \"C:/Users/Srishti/Desktop/ml/hw3(1)/all/\""
   ]
  },
  {
   "cell_type": "code",
   "execution_count": 217,
   "metadata": {
    "collapsed": true
   },
   "outputs": [],
   "source": [
    "def load_dataset(subset=\"train\"):\n",
    "    \"\"\"\n",
    "    1. subset = \"train\", \"val\", \"test\"\n",
    "    2. About the dataset: in \"train\",\"val\" subset, the first half of images are images of hands, the rest half are images of not-hand. \n",
    "    3. extract features from HoG\n",
    "    \"\"\"\n",
    "    path = os.path.join(IMAGE_DIR,subset)\n",
    "    name_list = os.listdir(path)\n",
    "    print(\"Number of images in {}-set: {}\".format(subset, len(name_list)))\n",
    "    #HoG returns 324 features\n",
    "    X = np.zeros(shape=(len(name_list), 324))\n",
    "\n",
    "    if subset == \"train\" or subset == \"val\":\n",
    "        #Make sure that we have equal number of positive and negative class images\n",
    "        assert len(name_list)%2 == 0\n",
    "        count = len(name_list)//2\n",
    "        y = np.array(count*[1] + count*[0])\n",
    "        for idx_true in range(count):\n",
    "            img_name = os.path.join(path,str(idx_true)+\".png\")\n",
    "            img = io.imread(img_name)\n",
    "            img = rgb2gray(img)\n",
    "            vec = hog(img)\n",
    "            X[idx_true, :] = vec\n",
    "        \n",
    "        for idx in range(count):\n",
    "            idx_false = idx + count\n",
    "            img_name = os.path.join(path,str(idx_false)+\".png\")\n",
    "            img = io.imread(img_name)\n",
    "            img = rgb2gray(img)\n",
    "            vec = hog(img)\n",
    "            X[idx_false, :] = vec\n",
    "        return X, y        \n",
    "    else:\n",
    "        for idx in range(len(name_list)):\n",
    "            img_name = os.path.join(path, str(idx)+\".png\")\n",
    "            img = io.imread(img_name)\n",
    "            img = rgb2gray(img)\n",
    "            vec = hog(img)\n",
    "            X[idx, :] = vec\n",
    "        return X"
   ]
  },
  {
   "cell_type": "markdown",
   "metadata": {},
   "source": [
    "### load the data"
   ]
  },
  {
   "cell_type": "code",
   "execution_count": 218,
   "metadata": {},
   "outputs": [
    {
     "name": "stdout",
     "output_type": "stream",
     "text": [
      "Number of images in train-set: 8170\n"
     ]
    },
    {
     "name": "stderr",
     "output_type": "stream",
     "text": [
      "C:\\Users\\Srishti\\Anaconda3\\lib\\site-packages\\skimage\\feature\\_hog.py:119: skimage_deprecation: Default value of `block_norm`==`L1` is deprecated and will be changed to `L2-Hys` in v0.15\n",
      "  'be changed to `L2-Hys` in v0.15', skimage_deprecation)\n"
     ]
    },
    {
     "name": "stdout",
     "output_type": "stream",
     "text": [
      "Number of images in val-set: 2724\n",
      "Number of images in test-set: 5542\n"
     ]
    }
   ],
   "source": [
    "X_train, y_train = load_dataset(\"train\")\n",
    "X_val, y_val = load_dataset(\"val\")\n",
    "X_test = load_dataset(\"test\")"
   ]
  },
  {
   "cell_type": "markdown",
   "metadata": {},
   "source": [
    "### displaying images"
   ]
  },
  {
   "cell_type": "code",
   "execution_count": 219,
   "metadata": {
    "collapsed": true
   },
   "outputs": [],
   "source": [
    "def display(img_path):\n",
    "    \"\"\"\n",
    "    visualize the img\n",
    "    \"\"\"\n",
    "    img = io.imread(img_path)\n",
    "    print(img_path)\n",
    "    io.imshow(img)\n",
    "    io.show()"
   ]
  },
  {
   "cell_type": "code",
   "execution_count": 220,
   "metadata": {
    "collapsed": true
   },
   "outputs": [
    {
     "name": "stdout",
     "output_type": "stream",
     "text": [
      "C:/Users/Srishti/Desktop/ml/hw3(1)/all/train/1.png\n"
     ]
    },
    {
     "name": "stderr",
     "output_type": "stream",
     "text": [
      "C:\\Users\\Srishti\\Anaconda3\\lib\\site-packages\\skimage\\io\\_plugins\\matplotlib_plugin.py:51: FutureWarning: Conversion of the second argument of issubdtype from `float` to `np.floating` is deprecated. In future, it will be treated as `np.float64 == np.dtype(float).type`.\n",
      "  out_of_range_float = (np.issubdtype(image.dtype, np.float) and\n",
      "C:\\Users\\Srishti\\Anaconda3\\lib\\site-packages\\matplotlib\\axes\\_base.py:1400: MatplotlibDeprecationWarning: The 'box-forced' keyword argument is deprecated since 2.2.\n",
      "  \" since 2.2.\", cbook.mplDeprecation)\n"
     ]
    },
    {
     "data": {
      "image/png": "[encoded data removed]",
      "text/plain": [
       "<Figure size 432x288 with 1 Axes>"
      ]
     },
     "metadata": {},
     "output_type": "display_data"
    }
   ],
   "source": [
    "display(IMAGE_DIR+\"train/1.png\")"
   ]
  },
  {
   "cell_type": "markdown",
   "metadata": {},
   "source": [
    "### Logistic regression"
   ]
  },
  {
   "cell_type": "markdown",
   "metadata": {},
   "source": [
    "#### Main function in the class\n",
    "1. \\__init\\__() which sets the hyper parameters\n",
    "2. sigmoid()\n",
    "3. __init_param(), initializes the parameters .\n",
    "4. fit(): train the data\n",
    "5. predict_proba(): predict the probability of the sample belonging to the positive class\n",
    "6. predict(): classify the sample\n",
    "\n",
    "\n",
    "Feel free to overlook the rest of the parts of the code, it's just for convenience.\n"
   ]
  },
  {
   "cell_type": "code",
   "execution_count": 221,
   "metadata": {
    "collapsed": true
   },
   "outputs": [],
   "source": [
    "class LogisticRegression:\n",
    "    \"\"\"\n",
    "    Logistic Regression\n",
    "    \"\"\"\n",
    "    def __init__(self, eta0=0.1, eta1=1, m=16, max_epoch=1000, delta=0.0001):\n",
    "        \"\"\"\n",
    "        m is the batch_size\n",
    "        \"\"\"\n",
    "        self.__init = True # whether to initial the parameters\n",
    "        self.__eta0 = eta0\n",
    "        self.__eta1 = eta1\n",
    "        self.__delta = delta\n",
    "        self.__m = m\n",
    "        self.__max_epoch = max_epoch\n",
    "        \n",
    "    def sigmoid(self,x):\n",
    "        return 1.0 / (1 + np.exp(-x))\n",
    "    \n",
    "    def __init_param(self):\n",
    "        \"\"\"\n",
    "        Weights initialized using a normal distribution here: you can change the distribution.\n",
    "        \"\"\"\n",
    "        d = self.__dimension\n",
    "        np.random.randn(1,d)\n",
    "        self.__wt =np.random.randn(1,d)\n",
    "\n",
    "        #self.__wt = np.reshape(self.__wt,(1,d)) \n",
    "\n",
    "        self.__bias = np.random.randn()\n",
    "        self.__bias=1\n",
    "        return self.__wt,self.__bias\n",
    "    \n",
    "        \n",
    "        return save\n",
    "    def create_batch(self,i_n,m,X):\n",
    "        for i in range(0,X.shape[0],m):\n",
    "            #print (i_n[i:i+m])\n",
    "            yield i_n[i:i+m]\n",
    "    \n",
    "    def fit(self, X, y, X_val=None, y_val=None):\n",
    "        \"\"\"\n",
    "        Recommended input:\n",
    "        X: n x d array,\n",
    "        y: n x 1 array or list\n",
    "        \"\"\"\n",
    "        n, d = X.shape\n",
    "        self.__dimension = d\n",
    "        \n",
    "        if self.__init:\n",
    "            self.__init_param()\n",
    "        \n",
    "        ### write your code here ### \n",
    "\n",
    "        ############################\n",
    "        x=np.transpose(X)\n",
    "        #ybar=np.transpose(y)\n",
    "        conc=np.ones(n)\n",
    "        xbar=np.vstack([x,conc])\n",
    "        #w=np.hstack([self.__wt,self.__bias])\n",
    "        wbar=np.transpose(self.__wt)\n",
    "        wbar=np.vstack([wbar,self.__bias])\n",
    "        w=np.transpose(wbar)\n",
    "        x_val=np.transpose(X_val)\n",
    "        #ybar=np.transpose(y)\n",
    "        conc_val=np.ones(X_val.shape[0])\n",
    "        xbar_val=np.vstack([x_val,conc_val])\n",
    "        sum1=0\n",
    "        sum2=0\n",
    "        sum3=0\n",
    "        i_n=[]\n",
    "        l_train=[]\n",
    "        l_vali=[]\n",
    "        acc_train=[]\n",
    "        acc_valid=[]\n",
    "        epoch=0\n",
    "        l_old=0\n",
    "        #print(i_n)\n",
    "        \n",
    "        \n",
    "        \n",
    "        for j in range(1,self.__max_epoch+1):\n",
    "            #y=np.transpose(np.dot(w,xbar))\n",
    "            #print(y)\n",
    "            l_old1=np.dot(np.transpose(y),np.log(self.sigmoid(np.transpose(np.dot(w,xbar)))))\n",
    "            #print(l_old1.shape)\n",
    "            l_old0=np.log(1-(self.sigmoid(np.transpose(np.dot(w,xbar)))))\n",
    "            yi=1-(np.transpose(y))\n",
    "            l_old0=np.dot(yi,l_old0)\n",
    "            #print(np.transpose(y))\n",
    "            #print(yi)\n",
    "            #print(l_old0)\n",
    "            #print(self.sigmoid(np.transpose(np.dot(w,xbar))))\n",
    "            #print(l_old0.shape)\n",
    "            l_old= (l_old1+l_old0).sum()\n",
    "            l_old = (l_old/n)* (-1)\n",
    "            #print(l_old)\n",
    "            eta=self.__eta0/(self.__eta1+ j)\n",
    "            \n",
    "            i_n=np.random.permutation(n)\n",
    "            #print(i_n)\n",
    "            #print(i_n)\n",
    "            for batch in self.create_batch(i_n,self.__m,X):\n",
    "                #print(batch)\n",
    "               \n",
    "                sum2=0\n",
    "                for k in batch:\n",
    "                    y1=np.matmul(w,xbar[:,k])\n",
    "                    x_col=np.matrix((xbar[:,k]))\n",
    "                    x_col=np.transpose(x_col)\n",
    "                    sum2=np.add(np.matmul(x_col,np.matrix(y[k]-(self.sigmoid(y1)))),sum2)\n",
    "                    #print(sum2)\n",
    "                deltheta=np.transpose((sum2/len(batch))*-1)\n",
    "                w= np.subtract(w,np.dot(eta,deltheta))\n",
    "            l_new1=np.dot(np.transpose(y),np.log(self.sigmoid(np.transpose(np.dot(w,xbar)))))\n",
    "            l_new0=np.log(1-(self.sigmoid(np.transpose(np.dot(w,xbar)))))\n",
    "            yi=1-(np.transpose(y))\n",
    "            l_new0=np.dot(yi,l_new0)\n",
    "            l_new= (l_new1+l_new0).sum()\n",
    "            l_new = (l_new/n)* (-1)\n",
    "            l_train.append(l_new)\n",
    "            l_val1=np.dot(np.transpose(y_val),np.log(self.sigmoid(np.transpose(np.dot(w,xbar_val)))))\n",
    "            l_val0=np.log(1-(self.sigmoid(np.transpose(np.dot(w,xbar_val)))))\n",
    "            yi_val=1-(np.transpose(y_val))\n",
    "            l_val0=np.dot(yi_val,l_val0)\n",
    "            l_val= (l_val1+l_val0).sum()\n",
    "            l_val = (l_val/n)* (-1)\n",
    "            l_vali.append(l_val)\n",
    "            #print(l_new)\n",
    "            epoch=epoch+1 \n",
    "            ypred_train=self.predict(np.transpose(np.dot(w,xbar)))        \n",
    "            #print(ypred_train)\n",
    "            acc_train.append(accuracy_score(y,ypred_train))\n",
    "            ypred_val=self.predict(np.transpose(np.dot(w,xbar_val)))\n",
    "            acc_valid.append(accuracy_score(y_val,ypred_val))\n",
    "            if(l_new>(1-self.__delta)*(l_old)):\n",
    "                break\n",
    "        #print(epoch)      \n",
    "        return(l_train,epoch,w,l_vali,acc_train,acc_valid,ypred_val)\n",
    "            \n",
    "            \n",
    "       \n",
    "    \n",
    "        \n",
    "    \n",
    "    def predict_proba(self, X):\n",
    "        \"\"\"\n",
    "        predict the probility of the sample\n",
    "        You can refer to my code below\n",
    "        \"\"\"\n",
    "#         return a vector containing the probability values of the samples belonging to the positive class\n",
    "    \n",
    "    def predict(self, X):\n",
    "        \"\"\"\n",
    "        Classify the sample\n",
    "        \"\"\"\n",
    "#         return self.predict_proba(X) >= 0.5 # attention: this will give result in bool, you need to convert it to int for submission. \n",
    "        predictions=self.sigmoid(X)\n",
    "        pred=[]\n",
    "        for preds in predictions:\n",
    "            if(preds>=0.5):\n",
    "                pred.append(1)\n",
    "            else:\n",
    "                pred.append(0)\n",
    "        return pred\n",
    "    def get_param(self):\n",
    "        \"\"\"\n",
    "        output:\n",
    "            parameters: wt(1*d array), b(scalar)\n",
    "        \"\"\"\n",
    "        return [self.__wt, self.__bias]\n",
    "    \n",
    "    def save_model(self, save_file):\n",
    "        \"\"\"\n",
    "        save model to .pkl file\n",
    "        \"\"\"\n",
    "        with open(save_file,\"wb\") as file:\n",
    "            pickle.dump([self.__wt, self.__bias],file)\n",
    "\n",
    "    def load_model(self, load_file):\n",
    "        \"\"\"\n",
    "        load model from .pkl file\n",
    "        \"\"\"\n",
    "        with open(load_file,\"rb\") as file:\n",
    "            param = pickle.load(file)\n",
    "        self.__wt = param[0]\n",
    "        self.__bias = param[1]\n",
    "        self.__init = False\n",
    "        return self.__wt, self.__bias"
   ]
  },
  {
   "cell_type": "markdown",
   "metadata": {},
   "source": [
    "## Question 2.3"
   ]
  },
  {
   "cell_type": "markdown",
   "metadata": {},
   "source": [
    "### 1. Baseline Model"
   ]
  },
  {
   "cell_type": "code",
   "execution_count": 222,
   "metadata": {
    "collapsed": true,
    "scrolled": true
   },
   "outputs": [],
   "source": [
    "LR = LogisticRegression()\n"
   ]
  },
  {
   "cell_type": "markdown",
   "metadata": {},
   "source": [
    "(a) Number of epochs till termination = 363"
   ]
  },
  {
   "cell_type": "code",
   "execution_count": 223,
   "metadata": {},
   "outputs": [
    {
     "name": "stdout",
     "output_type": "stream",
     "text": [
      "number of epochs till termination 363\n"
     ]
    }
   ],
   "source": [
    "l1,epoch1,w1,lvalid,acc_train,acc_valid,ypred_val=LR.fit(X_train,y_train,X_val,y_val)\n",
    "print(\"number of epochs till termination\", epoch1)\n"
   ]
  },
  {
   "cell_type": "code",
   "execution_count": 255,
   "metadata": {},
   "outputs": [
    {
     "data": {
      "text/plain": [
       "[<matplotlib.lines.Line2D at 0x16ec3ee7240>]"
      ]
     },
     "execution_count": 255,
     "metadata": {},
     "output_type": "execute_result"
    },
    {
     "data": {
      "image/png": "[encoded data removed]",
      "text/plain": [
       "<Figure size 432x288 with 1 Axes>"
      ]
     },
     "metadata": {},
     "output_type": "display_data"
    }
   ],
   "source": [
    "#print(l1)\n",
    "#print(epoch1)\n",
    "# (b) Plot L(theta) vs num_epoch\n",
    "plt.plot(range(epoch1),l1)"
   ]
  },
  {
   "cell_type": "code",
   "execution_count": 225,
   "metadata": {
    "collapsed": true
   },
   "outputs": [
    {
     "name": "stdout",
     "output_type": "stream",
     "text": [
      "final value of ltheta for training data  0.5274465166335702\n"
     ]
    }
   ],
   "source": [
    "print(\"final value of ltheta for training data \", l1[epoch1-1])\n",
    "#print(lvalid[epoch1-1])"
   ]
  },
  {
   "cell_type": "markdown",
   "metadata": {},
   "source": [
    "(c) Final value of L($\\theta$) after optimization = 0.52744"
   ]
  },
  {
   "cell_type": "markdown",
   "metadata": {},
   "source": [
    "### 2. Experimenting with ($\\eta_0$,$\\eta_1$)"
   ]
  },
  {
   "cell_type": "code",
   "execution_count": 245,
   "metadata": {},
   "outputs": [],
   "source": [
    "# Experimentation code goes here\n",
    "eta_0=[0.5,1.0,5,10,50,100]\n",
    "eta_1=[5,10,50,100,500,1000]\n",
    "min1=1000\n",
    "for i in range(0,6):\n",
    "    #print(eta_0[i])\n",
    "    #print(eta_1[i])\n",
    "    #eta_1=eta_0*10\n",
    "    LR.__init__(eta0=eta_0[i],eta1=eta_1[i],m=16, max_epoch=1000, delta=0.0001)\n",
    "    l_exp,epoch_exp,w_exp,lvalid_exp,acc_train_exp,acc_valid_exp,ypred_val_exp=LR.fit(X_train,y_train,X_val,y_val)\n",
    "    if epoch_exp<min1:\n",
    "        min1=epoch_exp\n",
    "        final_eta0=eta_0[i]\n",
    "        final_eta1=eta_1[i]\n",
    "        final_ltheta=l_exp[min1-1]\n",
    "        final_ltheta_list=l_exp"
   ]
  },
  {
   "cell_type": "markdown",
   "metadata": {},
   "source": [
    "(a) Best value for, $\\eta_0$ = 50, $\\eta_1$ = 500\n",
    "\n",
    "Number of epochs for training = 88\n",
    "\n",
    "Final value of L($\\theta$) = 0.308"
   ]
  },
  {
   "cell_type": "code",
   "execution_count": 246,
   "metadata": {},
   "outputs": [
    {
     "name": "stdout",
     "output_type": "stream",
     "text": [
      "Best value for eta0 and eta1 is :  50   500\n",
      "Number of epochs for training  88\n",
      "Final value of ltheta  0.308911744248917\n"
     ]
    }
   ],
   "source": [
    "print(\"Best value for eta0 and eta1 is : \",final_eta0,\" \", final_eta1)\n",
    "print(\"Number of epochs for training \", min1)\n",
    "print(\"Final value of ltheta \", final_ltheta)"
   ]
  },
  {
   "cell_type": "code",
   "execution_count": 254,
   "metadata": {
    "collapsed": true
   },
   "outputs": [
    {
     "data": {
      "text/plain": [
       "[<matplotlib.lines.Line2D at 0x16ec3e85ef0>]"
      ]
     },
     "execution_count": 254,
     "metadata": {},
     "output_type": "execute_result"
    },
    {
     "data": {
      "image/png": "[encoded data removed]",
      "text/plain": [
       "<Figure size 432x288 with 1 Axes>"
      ]
     },
     "metadata": {},
     "output_type": "display_data"
    }
   ],
   "source": [
    "# (b) For best (eta_0, eta_1) plot L(theta) vs num_epochs\n",
    "plt.plot(range(min1),final_ltheta_list)\n"
   ]
  },
  {
   "cell_type": "markdown",
   "metadata": {},
   "source": [
    "### 3. Evaluating on validation set"
   ]
  },
  {
   "cell_type": "code",
   "execution_count": 234,
   "metadata": {
    "collapsed": true
   },
   "outputs": [
    {
     "data": {
      "text/plain": [
       "<matplotlib.legend.Legend at 0x16ecd32fb70>"
      ]
     },
     "execution_count": 234,
     "metadata": {},
     "output_type": "execute_result"
    },
    {
     "data": {
      "image/png": "[encoded data removed]",
      "text/plain": [
       "<Figure size 432x288 with 1 Axes>"
      ]
     },
     "metadata": {},
     "output_type": "display_data"
    }
   ],
   "source": [
    "# (a) Plot L(theta) vs num_epochs for both training and validation set on the same figure\n",
    "plt.plot(range(epoch1),l1,label=\"training data\")    \n",
    "plt.plot(range(epoch1),lvalid,label=\"validation data\")\n",
    "plt.legend()\n"
   ]
  },
  {
   "cell_type": "code",
   "execution_count": 235,
   "metadata": {
    "collapsed": true
   },
   "outputs": [
    {
     "data": {
      "text/plain": [
       "<matplotlib.legend.Legend at 0x16ecc4998d0>"
      ]
     },
     "execution_count": 235,
     "metadata": {},
     "output_type": "execute_result"
    },
    {
     "data": {
      "image/png": "[encoded data removed]",
      "text/plain": [
       "<Figure size 432x288 with 1 Axes>"
      ]
     },
     "metadata": {},
     "output_type": "display_data"
    }
   ],
   "source": [
    "# (b) Plot Accuracy vs num_epochs for both training and validation set on the same figure\n",
    "plt.plot(range(epoch1),acc_train,label='training accuracy')\n",
    "plt.plot(range(epoch1),acc_valid,label='validation accuracy')\n",
    "plt.legend()"
   ]
  },
  {
   "cell_type": "markdown",
   "metadata": {},
   "source": [
    "### 4. ROC and Precision-Recall curves"
   ]
  },
  {
   "cell_type": "code",
   "execution_count": 236,
   "metadata": {
    "collapsed": true
   },
   "outputs": [
    {
     "name": "stdout",
     "output_type": "stream",
     "text": [
      "area under curve  0.8021292217327459\n"
     ]
    },
    {
     "data": {
      "image/png": "[encoded data removed]",
      "text/plain": [
       "<Figure size 432x288 with 1 Axes>"
      ]
     },
     "metadata": {},
     "output_type": "display_data"
    }
   ],
   "source": [
    "#(a) Plot ROC curve on validation data\n",
    "fpr, tpr, _ = roc_curve(y_val,ypred_val)\n",
    "plt.plot(fpr,tpr)\n",
    "roc_auc = auc(fpr, tpr)\n",
    "print(\"area under curve \", roc_auc)"
   ]
  },
  {
   "cell_type": "markdown",
   "metadata": {},
   "source": [
    "Area under curve = 0.8021"
   ]
  },
  {
   "cell_type": "code",
   "execution_count": 244,
   "metadata": {
    "collapsed": true
   },
   "outputs": [
    {
     "name": "stdout",
     "output_type": "stream",
     "text": [
      "[0.5        0.76565526 1.        ]\n"
     ]
    },
    {
     "data": {
      "text/plain": [
       "Text(0,0.5,'precision')"
      ]
     },
     "execution_count": 244,
     "metadata": {},
     "output_type": "execute_result"
    },
    {
     "data": {
      "image/png": "[encoded data removed]",
      "text/plain": [
       "<Figure size 432x288 with 1 Axes>"
      ]
     },
     "metadata": {},
     "output_type": "display_data"
    }
   ],
   "source": [
    "#(a) Plot Precision-Recall curve on validation data\n",
    "\n",
    "precision, recall, threshholds = precision_recall_curve(y_val, ypred_val)\n",
    "\n",
    "print(precision)\n",
    "\n",
    "plt.plot(recall,precision)\n",
    "plt.xlabel('recall')\n",
    "plt.ylabel('precision')\n",
    "#from sklearn.metrics import classification_report\n",
    "#print(classification_report(y_val,ypred_val))"
   ]
  },
  {
   "cell_type": "code",
   "execution_count": 240,
   "metadata": {},
   "outputs": [
    {
     "name": "stdout",
     "output_type": "stream",
     "text": [
      "average_precision is 0.7313268282601917\n"
     ]
    }
   ],
   "source": [
    "average_precision=average_precision_score(y_val, ypred_val)\n",
    "print(\"average_precision is\", average_precision)"
   ]
  },
  {
   "cell_type": "code",
   "execution_count": null,
   "metadata": {
    "collapsed": true
   },
   "outputs": [],
   "source": [
    "Average Precision = 0.73"
   ]
  },
  {
   "cell_type": "markdown",
   "metadata": {},
   "source": [
    "## Question 2.4"
   ]
  },
  {
   "cell_type": "markdown",
   "metadata": {},
   "source": [
    "### 1. Submission"
   ]
  },
  {
   "cell_type": "code",
   "execution_count": 256,
   "metadata": {
    "collapsed": true
   },
   "outputs": [],
   "source": [
    "import pandas as pd\n",
    "def submission(y_pred):\n",
    "    \"\"\"\n",
    "    generate the submission.csv for kaggle\n",
    "    input args:\n",
    "        y_pred: 5542x1 array or list contains 5542 elements\n",
    "        \n",
    "    \"\"\"\n",
    "    save_file = pd.DataFrame(columns=[\"Id\",\"Class\"])\n",
    "    id = np.array([idx for idx in range(5542)])\n",
    "    save_file[\"Id\"] = id\n",
    "    save_file[\"Class\"]= y_pred\n",
    "    save_file.to_csv(\"C:/Users/Srishti/Desktop/ml/submission.csv\",index=0)       "
   ]
  },
  {
   "cell_type": "markdown",
   "metadata": {},
   "source": [
    "#### Generate the submission.csv"
   ]
  },
  {
   "cell_type": "code",
   "execution_count": 257,
   "metadata": {
    "collapsed": true
   },
   "outputs": [],
   "source": [
    "# code goes here\n",
    "#print(acc_valid2[epoch2-1])\n",
    "x_train_val= np.append(X_train,X_val,axis=0)\n",
    "y_train_val=np.append(y_train,y_val,axis=0)\n",
    "x_test=np.transpose(X_test)\n",
    "conc_test=np.ones(X_test.shape[0])\n",
    "xbartest=np.vstack([x_test,conc_test])\n",
    "l2,epoch2,w2,lvalid2,acc_train2,acc_valid2,ypred_val2=LR.fit(x_train_val,y_train_val,X_val,y_val)\n",
    "ypred=LR.predict(np.transpose(np.dot(w2,xbartest)))\n",
    "submission(ypred)\n"
   ]
  },
  {
   "cell_type": "markdown",
   "metadata": {},
   "source": [
    "Best obtained accuracy on Public Leader-board = 87.766 %"
   ]
  }
 ],
 "metadata": {
  "kernelspec": {
   "display_name": "Python 3",
   "language": "python",
   "name": "python3"
  },
  "language_info": {
   "codemirror_mode": {
    "name": "ipython",
    "version": 3
   },
   "file_extension": ".py",
   "mimetype": "text/x-python",
   "name": "python",
   "nbconvert_exporter": "python",
   "pygments_lexer": "ipython3",
   "version": "3.6.5"
  }
 },
 "nbformat": 4,
 "nbformat_minor": 2
}
